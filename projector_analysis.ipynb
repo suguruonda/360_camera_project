{
 "cells": [
  {
   "cell_type": "code",
   "execution_count": 1,
   "id": "sweet-cleaning",
   "metadata": {},
   "outputs": [],
   "source": [
    "import numpy as np\n",
    "import glob\n",
    "from PIL import Image"
   ]
  },
  {
   "cell_type": "code",
   "execution_count": 16,
   "id": "understood-objective",
   "metadata": {},
   "outputs": [],
   "source": [
    "img_files = glob.glob(\"projectorimage/tpx/*.png\")\n",
    "img_files.sort()\n",
    "im0 = np.array(Image.open(img_files[0]))\n",
    "images_x = np.empty((im0.shape[0],im0.shape[1], len(img_files)))\n",
    "for i,elem in enumerate(img_files):\n",
    "    images_x[:,:,i] = np.array(Image.open(elem).convert('L'))\n",
    "    \n",
    "img_files = glob.glob(\"projectorimage/tpy/*.png\")\n",
    "img_files.sort()\n",
    "im0 = np.array(Image.open(img_files[0]))\n",
    "images_y = np.empty((im0.shape[0],im0.shape[1], len(img_files)))\n",
    "for i,elem in enumerate(img_files):\n",
    "    images_y[:,:,i] = np.array(Image.open(elem).convert('L'))"
   ]
  },
  {
   "cell_type": "code",
   "execution_count": 17,
   "id": "collective-pilot",
   "metadata": {},
   "outputs": [],
   "source": [
    "img_files = glob.glob(\"projectorimage/tpxi/*.png\")\n",
    "img_files.sort()\n",
    "im0 = np.array(Image.open(img_files[0]))\n",
    "images_xi = np.empty((im0.shape[0],im0.shape[1], len(img_files)))\n",
    "for i,elem in enumerate(img_files):\n",
    "    images_xi[:,:,i] = np.array(Image.open(elem).convert('L'))\n",
    "    \n",
    "img_files = glob.glob(\"projectorimage/tpyi/*.png\")\n",
    "img_files.sort()\n",
    "im0 = np.array(Image.open(img_files[0]))\n",
    "images_yi = np.empty((im0.shape[0],im0.shape[1], len(img_files)))\n",
    "for i,elem in enumerate(img_files):\n",
    "    images_yi[:,:,i] = np.array(Image.open(elem).convert('L'))"
   ]
  },
  {
   "cell_type": "code",
   "execution_count": 24,
   "id": "wireless-blood",
   "metadata": {},
   "outputs": [],
   "source": [
    "x_bit = (images_x>images_xi).astype(\"int\")\n",
    "y_bit = (images_y>images_yi).astype(\"int\")\n",
    "img_map = np.empty((im0.shape[0],im0.shape[1], 2))\n",
    "for i in range(x_bit.shape[2]):\n",
    "    img_map[:,:,0] += x_bit[:,:,i] * 2 ** i\n",
    "    img_map[:,:,1] += y_bit[:,:,i] * 2 ** i\n",
    "    \n",
    "im = Image.fromarray(img_map[:,:,0])\n",
    "im.save(\"x_map.tif\")\n",
    "im = Image.fromarray(img_map[:,:,1])\n",
    "im.save(\"y_map.tif\")"
   ]
  },
  {
   "cell_type": "code",
   "execution_count": 29,
   "id": "deluxe-organic",
   "metadata": {},
   "outputs": [],
   "source": [
    "test = np.where(img_map[:,:,1] == 1, 255, 0)\n",
    "im = Image.fromarray(test.astype(np.uint8))\n",
    "im.save(\"x_map1.png\")"
   ]
  },
  {
   "cell_type": "code",
   "execution_count": 35,
   "id": "beneficial-certificate",
   "metadata": {},
   "outputs": [
    {
     "data": {
      "text/plain": [
       "array([324., 960.])"
      ]
     },
     "execution_count": 35,
     "metadata": {},
     "output_type": "execute_result"
    }
   ],
   "source": [
    "#print(np.where(img_map[:,:,1] == 1))\n",
    "np.mean(np.where(img_map[:,:,1] == 1),axis=1)"
   ]
  },
  {
   "cell_type": "code",
   "execution_count": 48,
   "id": "operating-webcam",
   "metadata": {},
   "outputs": [
    {
     "data": {
      "image/png": "[encoded data removed]",
      "text/plain": [
       "<Figure size 432x288 with 1 Axes>"
      ]
     },
     "metadata": {
      "needs_background": "light"
     },
     "output_type": "display_data"
    }
   ],
   "source": [
    "import matplotlib.pyplot as plt\n",
    "plt.plot(images[708,3660,:])\n",
    "plt.plot(images[671,3687,:])\n",
    "plt.show()"
   ]
  },
  {
   "cell_type": "code",
   "execution_count": null,
   "id": "enabling-shore",
   "metadata": {},
   "outputs": [],
   "source": []
  }
 ],
 "metadata": {
  "kernelspec": {
   "display_name": "Python 3",
   "language": "python",
   "name": "python3"
  },
  "language_info": {
   "codemirror_mode": {
    "name": "ipython",
    "version": 3
   },
   "file_extension": ".py",
   "mimetype": "text/x-python",
   "name": "python",
   "nbconvert_exporter": "python",
   "pygments_lexer": "ipython3",
   "version": "3.8.10"
  }
 },
 "nbformat": 4,
 "nbformat_minor": 5
}
